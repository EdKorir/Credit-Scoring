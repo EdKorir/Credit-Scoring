{
 "cells": [
  {
   "cell_type": "markdown",
   "id": "2ab254a9-1d6d-4baf-927e-3a7a4618f79f",
   "metadata": {},
   "source": [
    "# Understanding calibration and how to calibrate scores in credit risk modeling"
   ]
  },
  {
   "cell_type": "markdown",
   "id": "60b188e5-58a2-4416-ab78-be99cf583ff9",
   "metadata": {},
   "source": [
    "### Understanding basic terms\n",
    "\n",
    "First, it would be important to understand the basic terms used here:\n",
    "\n",
    "**PDO**: Points to Double the Odds - how many points does the score change if the odds double (for example, increase from 100:1 to 200:1). The common values of PDO are 20 or 40.\n",
    "\n",
    "**Base score**: This is a baseline score. There is a certain meaning to this score, for example, a base score of 550 means the good bad odds is 20:1\n",
    "\n",
    "So, if the baseline score is 550 meaning good bad odds 20:1 and PDO is 40, then a score of 590 will means good bad odds of 40:1, 630 means a good bad odds of 80:1 and so on."
   ]
  },
  {
   "cell_type": "markdown",
   "id": "55c045bf-bcd1-4337-ab3f-ec157e5b7489",
   "metadata": {},
   "source": [
    "### Scorecard Calibration"
   ]
  },
  {
   "cell_type": "markdown",
   "id": "12cd7f32-63bd-427a-b572-90cad5e7a34d",
   "metadata": {},
   "source": [
    "#### Step 1: Choose a calibration scale \n",
    "\n",
    "Choosing a calibration scale means defining the base score, good bad odds at base score and PDO. We choose a base score of 550 with good bad odds 20:1 and a PDO of 40"
   ]
  },
  {
   "cell_type": "markdown",
   "id": "535f12d3-794d-43e5-8c66-5d5e2ca1e6a8",
   "metadata": {},
   "source": [
    "#### Step 2: Create the calibration table"
   ]
  },
  {
   "cell_type": "code",
   "execution_count": 1,
   "id": "d9bea68a-1417-406a-85bf-ebf4db74ac64",
   "metadata": {},
   "outputs": [],
   "source": [
    "import pandas as pd"
   ]
  },
  {
   "cell_type": "code",
   "execution_count": 2,
   "id": "e1c135bf-5872-4c86-bbf3-c9ee0f14e776",
   "metadata": {},
   "outputs": [
    {
     "data": {
      "text/html": [
       "<div>\n",
       "<style scoped>\n",
       "    .dataframe tbody tr th:only-of-type {\n",
       "        vertical-align: middle;\n",
       "    }\n",
       "\n",
       "    .dataframe tbody tr th {\n",
       "        vertical-align: top;\n",
       "    }\n",
       "\n",
       "    .dataframe thead th {\n",
       "        text-align: right;\n",
       "    }\n",
       "</style>\n",
       "<table border=\"1\" class=\"dataframe\">\n",
       "  <thead>\n",
       "    <tr style=\"text-align: right;\">\n",
       "      <th></th>\n",
       "      <th>points</th>\n",
       "      <th>odds</th>\n",
       "      <th>log(odds)</th>\n",
       "    </tr>\n",
       "  </thead>\n",
       "  <tbody>\n",
       "    <tr>\n",
       "      <th>0</th>\n",
       "      <td>270</td>\n",
       "      <td>0.15625</td>\n",
       "      <td>1.856298</td>\n",
       "    </tr>\n",
       "    <tr>\n",
       "      <th>1</th>\n",
       "      <td>310</td>\n",
       "      <td>0.31250</td>\n",
       "      <td>1.163151</td>\n",
       "    </tr>\n",
       "    <tr>\n",
       "      <th>2</th>\n",
       "      <td>350</td>\n",
       "      <td>0.62500</td>\n",
       "      <td>0.470004</td>\n",
       "    </tr>\n",
       "    <tr>\n",
       "      <th>3</th>\n",
       "      <td>390</td>\n",
       "      <td>1.25000</td>\n",
       "      <td>-0.223144</td>\n",
       "    </tr>\n",
       "    <tr>\n",
       "      <th>4</th>\n",
       "      <td>430</td>\n",
       "      <td>2.50000</td>\n",
       "      <td>-0.916291</td>\n",
       "    </tr>\n",
       "    <tr>\n",
       "      <th>5</th>\n",
       "      <td>470</td>\n",
       "      <td>5.00000</td>\n",
       "      <td>-1.609438</td>\n",
       "    </tr>\n",
       "    <tr>\n",
       "      <th>6</th>\n",
       "      <td>510</td>\n",
       "      <td>10.00000</td>\n",
       "      <td>-2.302585</td>\n",
       "    </tr>\n",
       "    <tr>\n",
       "      <th>7</th>\n",
       "      <td>550</td>\n",
       "      <td>20.00000</td>\n",
       "      <td>-2.995732</td>\n",
       "    </tr>\n",
       "    <tr>\n",
       "      <th>8</th>\n",
       "      <td>590</td>\n",
       "      <td>40.00000</td>\n",
       "      <td>-3.688879</td>\n",
       "    </tr>\n",
       "    <tr>\n",
       "      <th>9</th>\n",
       "      <td>630</td>\n",
       "      <td>80.00000</td>\n",
       "      <td>-4.382027</td>\n",
       "    </tr>\n",
       "    <tr>\n",
       "      <th>10</th>\n",
       "      <td>670</td>\n",
       "      <td>160.00000</td>\n",
       "      <td>-5.075174</td>\n",
       "    </tr>\n",
       "    <tr>\n",
       "      <th>11</th>\n",
       "      <td>710</td>\n",
       "      <td>320.00000</td>\n",
       "      <td>-5.768321</td>\n",
       "    </tr>\n",
       "    <tr>\n",
       "      <th>12</th>\n",
       "      <td>750</td>\n",
       "      <td>640.00000</td>\n",
       "      <td>-6.461468</td>\n",
       "    </tr>\n",
       "    <tr>\n",
       "      <th>13</th>\n",
       "      <td>790</td>\n",
       "      <td>1280.00000</td>\n",
       "      <td>-7.154615</td>\n",
       "    </tr>\n",
       "    <tr>\n",
       "      <th>14</th>\n",
       "      <td>830</td>\n",
       "      <td>2560.00000</td>\n",
       "      <td>-7.847763</td>\n",
       "    </tr>\n",
       "    <tr>\n",
       "      <th>15</th>\n",
       "      <td>870</td>\n",
       "      <td>5120.00000</td>\n",
       "      <td>-8.540910</td>\n",
       "    </tr>\n",
       "    <tr>\n",
       "      <th>16</th>\n",
       "      <td>910</td>\n",
       "      <td>10240.00000</td>\n",
       "      <td>-9.234057</td>\n",
       "    </tr>\n",
       "    <tr>\n",
       "      <th>17</th>\n",
       "      <td>950</td>\n",
       "      <td>20480.00000</td>\n",
       "      <td>-9.927204</td>\n",
       "    </tr>\n",
       "    <tr>\n",
       "      <th>18</th>\n",
       "      <td>990</td>\n",
       "      <td>40960.00000</td>\n",
       "      <td>-10.620351</td>\n",
       "    </tr>\n",
       "  </tbody>\n",
       "</table>\n",
       "</div>"
      ],
      "text/plain": [
       "    points         odds  log(odds)\n",
       "0      270      0.15625   1.856298\n",
       "1      310      0.31250   1.163151\n",
       "2      350      0.62500   0.470004\n",
       "3      390      1.25000  -0.223144\n",
       "4      430      2.50000  -0.916291\n",
       "5      470      5.00000  -1.609438\n",
       "6      510     10.00000  -2.302585\n",
       "7      550     20.00000  -2.995732\n",
       "8      590     40.00000  -3.688879\n",
       "9      630     80.00000  -4.382027\n",
       "10     670    160.00000  -5.075174\n",
       "11     710    320.00000  -5.768321\n",
       "12     750    640.00000  -6.461468\n",
       "13     790   1280.00000  -7.154615\n",
       "14     830   2560.00000  -7.847763\n",
       "15     870   5120.00000  -8.540910\n",
       "16     910  10240.00000  -9.234057\n",
       "17     950  20480.00000  -9.927204\n",
       "18     990  40960.00000 -10.620351"
      ]
     },
     "execution_count": 2,
     "metadata": {},
     "output_type": "execute_result"
    }
   ],
   "source": [
    "points = pd.read_csv(r'C:\\Users\\Edward Korir\\Desktop\\score_card_points.csv')\n",
    "points"
   ]
  },
  {
   "cell_type": "markdown",
   "id": "f296121d-0fe6-4fae-acd8-fcd4f8ed811d",
   "metadata": {},
   "source": [
    "As we can see, start with the base score and keep on adding 40 points and doubling the odds. Similarly, keep on subtracting 40 points and halving the odds. The third column is then obtained by –LN(odds), for example, -LN(20) is -2.99 and –LN(40) is -3.68 and so on."
   ]
  },
  {
   "cell_type": "markdown",
   "id": "e66b93ae-5b56-4ea2-b318-251ccb2d17be",
   "metadata": {},
   "source": [
    "### Step 3: Create the calibration equation"
   ]
  },
  {
   "cell_type": "code",
   "execution_count": 7,
   "id": "ecc6336d-162d-4d69-a1aa-e043f04d1485",
   "metadata": {},
   "outputs": [
    {
     "data": {
      "image/png": "[encoded data removed]",
      "text/plain": [
       "<Figure size 640x480 with 1 Axes>"
      ]
     },
     "metadata": {},
     "output_type": "display_data"
    }
   ],
   "source": [
    "import seaborn as sns\n",
    "import matplotlib.pyplot as plt\n",
    "\n",
    "sns.set(style=\"darkgrid\")\n",
    "p = sns.regplot(points, y='points', x='log(odds)')\n",
    "plt.show()"
   ]
  },
  {
   "cell_type": "code",
   "execution_count": 9,
   "id": "6d1993ae-735f-47ff-8df2-28b6efeba7a0",
   "metadata": {},
   "outputs": [
    {
     "data": {
      "text/plain": [
       "(array([-10.62035126, -10.4943245 , -10.36829774, -10.24227098,\n",
       "        -10.11624422,  -9.99021746,  -9.8641907 ,  -9.73816394,\n",
       "         -9.61213718,  -9.48611042,  -9.36008366,  -9.2340569 ,\n",
       "         -9.10803014,  -8.98200338,  -8.85597662,  -8.72994986,\n",
       "         -8.6039231 ,  -8.47789634,  -8.35186958,  -8.22584282,\n",
       "         -8.09981606,  -7.9737893 ,  -7.84776254,  -7.72173578,\n",
       "         -7.59570902,  -7.46968226,  -7.3436555 ,  -7.21762874,\n",
       "         -7.09160198,  -6.96557522,  -6.83954846,  -6.7135217 ,\n",
       "         -6.58749494,  -6.46146818,  -6.33544142,  -6.20941466,\n",
       "         -6.0833879 ,  -5.95736114,  -5.83133438,  -5.70530762,\n",
       "         -5.57928086,  -5.4532541 ,  -5.32722734,  -5.20120058,\n",
       "         -5.07517382,  -4.94914706,  -4.8231203 ,  -4.69709354,\n",
       "         -4.57106678,  -4.44504002,  -4.31901325,  -4.19298649,\n",
       "         -4.06695973,  -3.94093297,  -3.81490621,  -3.68887945,\n",
       "         -3.56285269,  -3.43682593,  -3.31079917,  -3.18477241,\n",
       "         -3.05874565,  -2.93271889,  -2.80669213,  -2.68066537,\n",
       "         -2.55463861,  -2.42861185,  -2.30258509,  -2.17655833,\n",
       "         -2.05053157,  -1.92450481,  -1.79847805,  -1.67245129,\n",
       "         -1.54642453,  -1.42039777,  -1.29437101,  -1.16834425,\n",
       "         -1.04231749,  -0.91629073,  -0.79026397,  -0.66423721,\n",
       "         -0.53821045,  -0.41218369,  -0.28615693,  -0.16013017,\n",
       "         -0.03410341,   0.09192335,   0.21795011,   0.34397687,\n",
       "          0.47000363,   0.59603039,   0.72205715,   0.84808391,\n",
       "          0.97411067,   1.10013743,   1.22616419,   1.35219095,\n",
       "          1.47821771,   1.60424447,   1.73027123,   1.85629799]),\n",
       " array([990.00000002, 982.72727274, 975.45454547, 968.1818182 ,\n",
       "        960.90909093, 953.63636365, 946.36363638, 939.09090911,\n",
       "        931.81818183, 924.54545456, 917.27272729, 910.00000002,\n",
       "        902.72727274, 895.45454547, 888.1818182 , 880.90909093,\n",
       "        873.63636365, 866.36363638, 859.09090911, 851.81818184,\n",
       "        844.54545456, 837.27272729, 830.00000002, 822.72727274,\n",
       "        815.45454547, 808.1818182 , 800.90909093, 793.63636365,\n",
       "        786.36363638, 779.09090911, 771.81818184, 764.54545456,\n",
       "        757.27272729, 750.00000002, 742.72727274, 735.45454547,\n",
       "        728.1818182 , 720.90909093, 713.63636365, 706.36363638,\n",
       "        699.09090911, 691.81818184, 684.54545456, 677.27272729,\n",
       "        670.00000002, 662.72727275, 655.45454547, 648.1818182 ,\n",
       "        640.90909093, 633.63636365, 626.36363638, 619.09090911,\n",
       "        611.81818184, 604.54545456, 597.27272729, 590.00000002,\n",
       "        582.72727275, 575.45454547, 568.1818182 , 560.90909093,\n",
       "        553.63636366, 546.36363638, 539.09090911, 531.81818184,\n",
       "        524.54545456, 517.27272729, 510.00000002, 502.72727275,\n",
       "        495.45454547, 488.1818182 , 480.90909093, 473.63636366,\n",
       "        466.36363638, 459.09090911, 451.81818184, 444.54545456,\n",
       "        437.27272729, 430.00000002, 422.72727275, 415.45454547,\n",
       "        408.1818182 , 400.90909093, 393.63636366, 386.36363638,\n",
       "        379.09090911, 371.81818184, 364.54545457, 357.27272729,\n",
       "        350.00000002, 342.72727275, 335.45454547, 328.1818182 ,\n",
       "        320.90909093, 313.63636366, 306.36363638, 299.09090911,\n",
       "        291.81818184, 284.54545457, 277.27272729, 270.00000002]))"
      ]
     },
     "execution_count": 9,
     "metadata": {},
     "output_type": "execute_result"
    }
   ],
   "source": [
    "p.get_lines()[0].get_xdata(),p.get_lines()[0].get_ydata()"
   ]
  },
  {
   "cell_type": "code",
   "execution_count": 10,
   "id": "2f8b559b-4160-4d0a-9951-52e54ca077b2",
   "metadata": {},
   "outputs": [
    {
     "name": "stdout",
     "output_type": "stream",
     "text": [
      "377.12287620380147 -57.707801635583195\n"
     ]
    }
   ],
   "source": [
    "import scipy\n",
    "\n",
    "#calculate slope and intercept of regression equation\n",
    "slope, intercept, r, p, sterr = scipy.stats.linregress(x=p.get_lines()[0].get_xdata(),\n",
    "                                                       y=p.get_lines()[0].get_ydata())\n",
    "\n",
    "#display slope and intercept of regression equation\n",
    "print(intercept, slope)"
   ]
  },
  {
   "cell_type": "markdown",
   "id": "f40479b1-95ef-4654-b4f5-41acc0db2914",
   "metadata": {},
   "source": [
    "The term 57.708 here is also called **factor** (***PDO**/ln(2)*) and the term 377.12 is the **offset**."
   ]
  },
  {
   "cell_type": "markdown",
   "id": "1dd75466-8018-4872-b185-0f142104c591",
   "metadata": {},
   "source": [
    "$$y = -57.708x + 377.123$$"
   ]
  },
  {
   "cell_type": "markdown",
   "id": "c85d41bc-6a6e-48f0-a4d7-f6c3f4e6764a",
   "metadata": {},
   "source": [
    "#### Step 4: Getting scorecard points for our dataset"
   ]
  },
  {
   "cell_type": "markdown",
   "id": "33f4f431-0e98-484c-b722-7e5aedfe88a3",
   "metadata": {},
   "source": [
    "Now that we have the calibration equation, we can easily get the scorecard points for our calibration scale. On the dataset which you are using, just apply the equation above where:\n",
    "\n",
    "**x** is ln(p/(1-p)) or the log odds, where **p** is the probability of default obtained from the model; **y** is the score points\n",
    "\n",
    "Please note that if we have the probabilities, we will have to first calculate ln(p/(1-p)) and then use it as x in our equation.\n",
    "\n",
    "Hence the final calibration equation is:\n",
    "\n",
    "$$score = -57.708 \\times ln(\\frac{p}{(1-p)} + 377.123$$\n",
    "\n",
    "Where p is the probability of default."
   ]
  },
  {
   "cell_type": "code",
   "execution_count": null,
   "id": "2657fef9-b604-42f6-a88d-b154f83a7a93",
   "metadata": {},
   "outputs": [],
   "source": []
  }
 ],
 "metadata": {
  "kernelspec": {
   "display_name": "Python 3 (ipykernel)",
   "language": "python",
   "name": "python3"
  },
  "language_info": {
   "codemirror_mode": {
    "name": "ipython",
    "version": 3
   },
   "file_extension": ".py",
   "mimetype": "text/x-python",
   "name": "python",
   "nbconvert_exporter": "python",
   "pygments_lexer": "ipython3",
   "version": "3.11.8"
  }
 },
 "nbformat": 4,
 "nbformat_minor": 5
}
